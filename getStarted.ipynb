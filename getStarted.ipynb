{
 "cells": [
  {
   "cell_type": "code",
   "execution_count": 10,
   "metadata": {},
   "outputs": [
    {
     "name": "stdout",
     "output_type": "stream",
     "text": [
      "3\n",
      "-1\n",
      "9\n",
      "0.696969696969697\n",
      "0\n",
      "135\n"
     ]
    }
   ],
   "source": [
    "print(1+2) #Addieren\n",
    "print(1-2) #Subtrahieren\n",
    "print(3*3) # Multiplizieren\n",
    "print(23/33) #Dividieren\n",
    "print(23//33) #Dividieren ohne Rest\n",
    "\n",
    "myFirstInteger = 123\n",
    "mySecondInteger = 12\n",
    "x = myFirstInteger + mySecondInteger\n",
    "\n",
    "print(x)\n"
   ]
  },
  {
   "cell_type": "code",
   "execution_count": 15,
   "metadata": {},
   "outputs": [
    {
     "name": "stdout",
     "output_type": "stream",
     "text": [
      "52\n"
     ]
    }
   ],
   "source": [
    "age = 42\n",
    "age = age + 10\n",
    "print(age)\n"
   ]
  },
  {
   "cell_type": "code",
   "execution_count": null,
   "metadata": {},
   "outputs": [],
   "source": [
    "print(int(1.75))"
   ]
  },
  {
   "cell_type": "code",
   "execution_count": null,
   "metadata": {},
   "outputs": [],
   "source": [
    "str = \"Hallo \\n Welt\"\n",
    "str1 = 'Hallo Welt'\n",
    "str2 = \"\"\"\"Hallo   \n",
    "\n",
    "Welt\"\"\"\n",
    "\n"
   ]
  },
  {
   "cell_type": "code",
   "execution_count": null,
   "metadata": {},
   "outputs": [],
   "source": []
  }
 ],
 "metadata": {
  "kernelspec": {
   "display_name": "Python 3",
   "language": "python",
   "name": "python3"
  },
  "language_info": {
   "codemirror_mode": {
    "name": "ipython",
    "version": 3
   },
   "file_extension": ".py",
   "mimetype": "text/x-python",
   "name": "python",
   "nbconvert_exporter": "python",
   "pygments_lexer": "ipython3",
   "version": "3.12.1"
  }
 },
 "nbformat": 4,
 "nbformat_minor": 2
}
